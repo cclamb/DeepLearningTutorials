{
 "cells": [
  {
   "cell_type": "code",
   "execution_count": null,
   "metadata": {
    "collapsed": false
   },
   "outputs": [
    {
     "name": "stdout",
     "output_type": "stream",
     "text": [
      "> \u001b[0;32m<ipython-input-11-8e64bb8fbd0d>\u001b[0m(17)\u001b[0;36mshared_dataset\u001b[0;34m()\u001b[0m\n",
      "\u001b[0;32m     16 \u001b[0;31m    \u001b[0mipdb\u001b[0m\u001b[0;34m.\u001b[0m\u001b[0mset_trace\u001b[0m\u001b[0;34m(\u001b[0m\u001b[0;34m)\u001b[0m\u001b[0;34m\u001b[0m\u001b[0m\n",
      "\u001b[0m\u001b[0;32m---> 17 \u001b[0;31m    shared_x = theano.shared(\n",
      "\u001b[0m\u001b[0;32m     18 \u001b[0;31m        numpy.asarray(\n",
      "\u001b[0m\n"
     ]
    }
   ],
   "source": [
    "import cPickle\n",
    "import gzip\n",
    "import numpy\n",
    "import theano\n",
    "\n",
    "import theano.tensor as T\n",
    "\n",
    "import ipdb\n",
    "\n",
    "f = gzip.open('data/mnist.pkl.gz', 'rb')\n",
    "train_set, valid_set, test_set = cPickle.load(f)\n",
    "f.close()\n",
    "\n",
    "def shared_dataset(data_xy):\n",
    "    data_x, data_y = data_xy\n",
    "    ipdb.set_trace()\n",
    "    shared_x = theano.shared(\n",
    "        numpy.asarray(\n",
    "            data_x, \n",
    "            dtype=theano.config.floatX\n",
    "        )\n",
    "    )\n",
    "    shared_y = theano.shared(\n",
    "        numpy.asarray(\n",
    "            data_y, \n",
    "            dtype=theano.config.floatX\n",
    "        )\n",
    "    )\n",
    "    return shared_x, T.cast(shared_y, 'int32')\n",
    "\n",
    "test_set_x, test_set_y = shared_dataset(test_set)\n",
    "valid_set_x, valid_set_y = shared_dataset(valid_set)\n",
    "train_set_x, train_set_y = shared_dataset(train_set)\n",
    "\n",
    "batch_size = 500\n",
    "\n",
    "ipdb.set_trace()\n",
    "# Accessing the third minibatch of the training set\n",
    "data = train_set_x[2 * batch_size : 3 * batch_size]\n"
   ]
  }
 ],
 "metadata": {
  "kernelspec": {
   "display_name": "Python 2",
   "language": "python",
   "name": "python2"
  },
  "language_info": {
   "codemirror_mode": {
    "name": "ipython",
    "version": 2
   },
   "file_extension": ".py",
   "mimetype": "text/x-python",
   "name": "python",
   "nbconvert_exporter": "python",
   "pygments_lexer": "ipython2",
   "version": "2.7.10"
  }
 },
 "nbformat": 4,
 "nbformat_minor": 0
}
